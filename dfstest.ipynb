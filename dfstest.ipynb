{
 "cells": [
  {
   "cell_type": "code",
   "execution_count": 19,
   "id": "2e6ae997",
   "metadata": {},
   "outputs": [],
   "source": [
    "import graphviz as gv\n",
    "import numpy as np\n",
    "from game import engine\n",
    "import math"
   ]
  },
  {
   "cell_type": "code",
   "execution_count": 20,
   "id": "149f9d3c",
   "metadata": {},
   "outputs": [],
   "source": [
    "env = engine()\n",
    "g = gv.Digraph()"
   ]
  },
  {
   "cell_type": "code",
   "execution_count": 21,
   "id": "334f4948",
   "metadata": {},
   "outputs": [],
   "source": [
    "actions = ('n', 's', 'e', 'w')\n",
    "size = 4"
   ]
  },
  {
   "cell_type": "code",
   "execution_count": 28,
   "id": "7ca36a24",
   "metadata": {},
   "outputs": [],
   "source": [
    "def search(game:engine, depth:int, root=True):\n",
    "    if root:\n",
    "        g.clear()\n",
    "    \n",
    "    if depth == 0:\n",
    "        # base case\n",
    "        return game.score()\n",
    "    \n",
    "    values = np.zeros((size))\n",
    "    \n",
    "    for i, action in enumerate(actions):\n",
    "        copy = game.replicate()\n",
    "        valid_move = copy.move(action)\n",
    "        if not valid_move:\n",
    "            continue\n",
    "            \n",
    "        \n",
    "        v = search(copy, depth-1, root=False)\n",
    "        g.edge(str(game.score()) + '\\n' + game.__str__(), str(copy.score()) + '\\n' + copy.__str__(), action)\n",
    "        values[i] = v\n",
    "    \n",
    "    if root:\n",
    "        return np.argmax(values), np.max(values)\n",
    "    else:\n",
    "        return np.max(values)"
   ]
  }
 ],
 "metadata": {
  "kernelspec": {
   "display_name": "Python 3 (ipykernel)",
   "language": "python",
   "name": "python3"
  },
  "language_info": {
   "codemirror_mode": {
    "name": "ipython",
    "version": 3
   },
   "file_extension": ".py",
   "mimetype": "text/x-python",
   "name": "python",
   "nbconvert_exporter": "python",
   "pygments_lexer": "ipython3",
   "version": "3.10.11"
  }
 },
 "nbformat": 4,
 "nbformat_minor": 5
}
