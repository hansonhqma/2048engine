{
 "cells": [
  {
   "cell_type": "code",
   "execution_count": 2,
   "id": "22d79ddc",
   "metadata": {},
   "outputs": [],
   "source": [
    "from agent import dqnagent\n",
    "from game import engine\n",
    "import numpy as np\n",
    "import random\n",
    "import graphviz as gv"
   ]
  },
  {
   "cell_type": "code",
   "execution_count": 3,
   "id": "906e7d78",
   "metadata": {},
   "outputs": [],
   "source": [
    "player = dqnagent(engine())\n",
    "aux_env = engine()"
   ]
  },
  {
   "cell_type": "code",
   "execution_count": 18,
   "id": "d6e86869",
   "metadata": {},
   "outputs": [],
   "source": [
    "# play a random game to completion\n",
    "# constructs history of\n",
    "# state, action, reward, new state\n",
    "player.engine.reset()\n",
    "aux_env.reset()\n",
    "states = []\n",
    "base_move = 0\n",
    "while player.engine.active():\n",
    "    packet = [player.engine.__STATE__.copy()]\n",
    "    pre_score = player.engine.score()\n",
    "\n",
    "    action = random.choice(player.actions)\n",
    "    \n",
    "    # make intermediary moves\n",
    "    remaining_playable = tuple(filter(lambda a:a!=action, player.actions))\n",
    "    for a in remaining_playable:\n",
    "        aux_env.__SCORE__ = 0\n",
    "        aux_env.__STATE__ = player.engine.__STATE__.copy()\n",
    "\n",
    "        valid = aux_env.move(a)\n",
    "        if not valid:\n",
    "            continue\n",
    "\n",
    "        states.append([player.engine.__STATE__.copy(), a, aux_env.score(), aux_env.__STATE__.copy(), base_move])\n",
    "\n",
    "    valid = player.step(action)\n",
    "    if not valid:\n",
    "        continue\n",
    "    \n",
    "    score_delta = player.engine.score() - pre_score\n",
    "    packet.append(action)\n",
    "    packet.append(score_delta)\n",
    "    packet.append(player.engine.__STATE__.copy())\n",
    "    packet.append(base_move)\n",
    "\n",
    "    states.append(packet)\n",
    "    base_move += 1\n",
    "    "
   ]
  },
  {
   "cell_type": "code",
   "execution_count": 19,
   "id": "1898f5d0",
   "metadata": {},
   "outputs": [
    {
     "data": {
      "text/plain": [
       "536"
      ]
     },
     "execution_count": 19,
     "metadata": {},
     "output_type": "execute_result"
    }
   ],
   "source": [
    "len(states)"
   ]
  },
  {
   "cell_type": "code",
   "execution_count": 13,
   "id": "be1cc47c",
   "metadata": {},
   "outputs": [
    {
     "data": {
      "text/plain": [
       "'states.pdf'"
      ]
     },
     "execution_count": 13,
     "metadata": {},
     "output_type": "execute_result"
    }
   ],
   "source": [
    "graph.render('states')"
   ]
  },
  {
   "cell_type": "code",
   "execution_count": 15,
   "id": "260bab25",
   "metadata": {},
   "outputs": [
    {
     "data": {
      "text/plain": [
       "[array([[0, 0, 0, 0],\n",
       "        [2, 0, 0, 0],\n",
       "        [0, 0, 0, 2],\n",
       "        [2, 4, 0, 0]], dtype=int32),\n",
       " 's',\n",
       " 4,\n",
       " array([[0, 0, 0, 0],\n",
       "        [0, 0, 0, 0],\n",
       "        [0, 0, 2, 0],\n",
       "        [4, 4, 0, 2]], dtype=int32),\n",
       " 3]"
      ]
     },
     "execution_count": 15,
     "metadata": {},
     "output_type": "execute_result"
    }
   ],
   "source": [
    "states[15]"
   ]
  },
  {
   "cell_type": "code",
   "execution_count": null,
   "id": "1ebce380",
   "metadata": {},
   "outputs": [],
   "source": []
  }
 ],
 "metadata": {
  "kernelspec": {
   "display_name": "Python 3 (ipykernel)",
   "language": "python",
   "name": "python3"
  },
  "language_info": {
   "codemirror_mode": {
    "name": "ipython",
    "version": 3
   },
   "file_extension": ".py",
   "mimetype": "text/x-python",
   "name": "python",
   "nbconvert_exporter": "python",
   "pygments_lexer": "ipython3",
   "version": "3.10.11"
  }
 },
 "nbformat": 4,
 "nbformat_minor": 5
}
